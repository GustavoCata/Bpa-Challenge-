{
 "cells": [
  {
   "cell_type": "code",
   "execution_count": 1,
   "metadata": {},
   "outputs": [],
   "source": [
    "from selenium import webdriver\n",
    "from webdriver_manager.chrome import ChromeDriverManager\n",
    "from selenium.webdriver.chrome.options import Options\n",
    "from selenium.webdriver.common.keys import Keys\n",
    "import pandas as pd\n",
    "\n",
    "\n",
    "def writer(lista=None, columns=None, file=''):\n",
    "    df = pd.DataFrame(lista, columns=columns)\n",
    "    wrt = pd.ExcelWriter(f'{file}.xlsx', engine='xlsxwriter')\n",
    "    df.to_excel(wrt, sheet_name='result', startcol=0, startrow=0, index=False)\n",
    "    wrt.save()"
   ]
  },
  {
   "cell_type": "code",
   "execution_count": 2,
   "metadata": {},
   "outputs": [
    {
     "name": "stderr",
     "output_type": "stream",
     "text": [
      "[WDM] - Current google-chrome version is 86.0.4240\n",
      "[WDM] - Get LATEST driver version for 86.0.4240\n",
      "[WDM] - Driver [/home/luan/.wdm/drivers/chromedriver/linux64/86.0.4240.22/chromedriver] found in cache\n"
     ]
    },
    {
     "name": "stdout",
     "output_type": "stream",
     "text": [
      " \n"
     ]
    }
   ],
   "source": [
    "chrome_options = Options()\n",
    "#chrome_options.add_argument(\"--headless\")\n",
    "driver = webdriver.Chrome(ChromeDriverManager().install(), options=chrome_options)\n",
    "driver.maximize_window()\n",
    "\n",
    "driver.get(\"https://www.amazon.com.br\")\n",
    "driver.find_element_by_id('twotabsearchtextbox').send_keys('IPHONE')\n",
    "driver.find_element_by_id('twotabsearchtextbox').send_keys(Keys.ENTER)"
   ]
  },
  {
   "cell_type": "code",
   "execution_count": 3,
   "metadata": {},
   "outputs": [],
   "source": [
    "data = driver.find_elements_by_xpath(\"//*[@id=\\\"search\\\"]/div[1]/div[2]/div/span[3]/div[2]\")\n",
    "data = [t.text for t in data][0].split('\\n')"
   ]
  },
  {
   "cell_type": "code",
   "execution_count": 4,
   "metadata": {},
   "outputs": [],
   "source": [
    "grupos = []\n",
    "grupo = [data.pop(0)]\n",
    "while data:\n",
    "    line = data.pop(0)\n",
    "    if 'iphone' in line.lower():\n",
    "        grupos.append(grupo)\n",
    "        grupo = [line]\n",
    "    else:\n",
    "        grupo.append(line)\n",
    "\n",
    "dftemp = []\n",
    "for grupo in grupos:\n",
    "    for g in grupo:\n",
    "        if 'R$' in g:\n",
    "            valor = g[2:].split(' ')[0]\n",
    "            dftemp.append([grupo[0], valor])\n",
    "            break\n",
    "driver.close()\n",
    "writer(dftemp, columns=['PRODUTO', 'VALOR'], file='SAIDA')"
   ]
  }
 ],
 "metadata": {
  "kernelspec": {
   "display_name": "Python 3",
   "language": "python",
   "name": "python3"
  },
  "language_info": {
   "codemirror_mode": {
    "name": "ipython",
    "version": 3
   },
   "file_extension": ".py",
   "mimetype": "text/x-python",
   "name": "python",
   "nbconvert_exporter": "python",
   "pygments_lexer": "ipython3",
   "version": "3.8.5"
  }
 },
 "nbformat": 4,
 "nbformat_minor": 4
}